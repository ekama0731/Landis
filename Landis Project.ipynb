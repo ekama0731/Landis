{
 "cells": [
  {
   "cell_type": "markdown",
   "metadata": {},
   "source": [
    "# Landis Web Scraping\n",
    "\n",
    "My process began by using BeatifulSoup to parse the webpages. I soon realized that the HTML tagging that BeatifulSoup encountered was too repetitive for simple xpath tagging. After multiple attempts to scrape Mecklenburg County website, I changed my approach. I tried using a scrapy to parse the information. Soon after, I realized that scrapy has a difficult time scraping information when a website contains javascript. \n",
    "\n",
    "With these two methods unhelpful, I turned to my next method, which was selenium. Selenium was intended for web automation, but has many more use cases, such as web scraping. \n",
    "\n",
    "For selenium to work, we needed to download a webdriver. My webdriver of choice is chrome. \n",
    "\n",
    "# Web Scraping"
   ]
  },
  {
   "cell_type": "code",
   "execution_count": 67,
   "metadata": {},
   "outputs": [],
   "source": [
    "import csv\n",
    "from selenium import webdriver\n",
    "import pandas as pd\n",
    "import numpy as np"
   ]
  },
  {
   "cell_type": "code",
   "execution_count": 68,
   "metadata": {},
   "outputs": [],
   "source": [
    "driver = webdriver.Chrome()"
   ]
  },
  {
   "cell_type": "code",
   "execution_count": 69,
   "metadata": {},
   "outputs": [],
   "source": [
    "# header of our csv file\n",
    "# NOTE: only run this code once. If you run this code more than once, it will remove all prior information and recreate 'landis.csv'\n",
    "with open('landis.csv','w') as f:\n",
    "    f.write(\"name|address|land_use|total_apprasial_value|land_size|description|appraisal_neighborhood\\n\")\n",
    "    \n",
    "    # I use ' | ' character to seperate the columns because some of our elements contain commas. When we run our csv file\n",
    "    # in python, we should note to our function that the delimiter is not a ',', rather '|'."
   ]
  },
  {
   "cell_type": "code",
   "execution_count": 71,
   "metadata": {
    "scrolled": true
   },
   "outputs": [
    {
     "name": "stdout",
     "output_type": "stream",
     "text": [
      "10\n",
      "10\n",
      "10\n",
      "10\n",
      "10\n",
      "10\n",
      "10\n",
      "10\n",
      "10\n",
      "10\n",
      "10\n",
      "10\n",
      "10\n",
      "10\n",
      "10\n",
      "10\n",
      "10\n",
      "10\n",
      "10\n",
      "10\n",
      "10\n",
      "10\n",
      "10\n",
      "10\n",
      "10\n",
      "10\n",
      "10\n",
      "10\n",
      "10\n",
      "10\n",
      "10\n",
      "10\n",
      "10\n",
      "10\n",
      "10\n",
      "10\n",
      "10\n",
      "10\n",
      "10\n",
      "10\n"
     ]
    }
   ],
   "source": [
    "for n in range(1,41):\n",
    "    \"\"\"\n",
    "    The reason why I have range(1,41) is due to the fact that Mecklenburg County website only hosts 40 pages of information.\n",
    "    This is a common issue with websites now. It's very unusual to see an indvidiual go through 40 pages on a website. To host\n",
    "    all this information will be expensive for the company, and not really needed. So websites say they offer a certain amount\n",
    "    of information, but rarely do you get to see all of it. \n",
    "    \"\"\"\n",
    "    \n",
    "    # The url used specifics houses in Charlotte, NC, and only Single Family Residentials\n",
    "    url = 'https://property.spatialest.com/nc/mecklenburg/#/search/R100_luc:Charlotte%2C%20NC_srcterm/{}'.format(n)\n",
    "    driver.get(url)\n",
    "    \n",
    "    \n",
    "    # The section below provides selenium with the necessary xpath for each attribute. \n",
    "    name = driver.find_elements_by_xpath('//div[@class=\"col-md-4 col-sm-4 col-xs-12\"]/ul/li[1]')\n",
    "    address = driver.find_elements_by_xpath('//div[@class=\"col-md-4 col-sm-4 col-xs-12\"]/ul/li[2]/span[2]')\n",
    "    land_use = driver.find_elements_by_xpath('//div[@class=\"col-md-4 col-sm-4 col-xs-12\"]/ul/li[3]/span[2]')\n",
    "    total_apprasial_value = driver.find_elements_by_xpath('//div[@class = \"col-md-3 col-sm-4  col-xs-12\"]/ul/li[1]/span[2]')\n",
    "    land_size = driver.find_elements_by_xpath('//div[@class = \"col-md-3 col-sm-4  col-xs-12\"]/ul/li[2]/span[2]')\n",
    "    description = driver.find_elements_by_xpath('//div[@class = \"col-md-3 col-sm-4  col-xs-12\"]/ul/li[3]/span[2]')\n",
    "    appraisal_neighborhood = driver.find_elements_by_xpath('//div[@class = \"col-md-3 col-sm-4  col-xs-12\"]/ul/li[4]/span[2]')\n",
    "    \n",
    "    # Just a visual to let us know if our scraper is working correctly. You should see 10 as the output.\n",
    "    num_items = len(name)\n",
    "    print(num_items)\n",
    "    \n",
    "    # Gathering the elements obtained from our scraper and appending it to our 'landis.csv'\n",
    "    with open('landis.csv', 'a') as f:\n",
    "        for i in range(num_items):\n",
    "            f.write(name[i].text +\"|\"+ address[i].text +\"|\"+ land_use[i].text +\"|\"+ total_apprasial_value[i].text +\"|\"+ land_size[i].text +\"|\"+ description[i].text +\"|\"+ appraisal_neighborhood[i].text +\"\\n\")\n",
    "    \"\"\"\n",
    "    When you first run this code, selenium takes awhile to parse every single page. The for loop runs through each page.\n",
    "    After the block has finished running, re-run this block to get the information into a csv file. Selenium has parsed through \n",
    "    every page so now our program can scrape the information needed.\n",
    "    \"\"\""
   ]
  },
  {
   "cell_type": "code",
   "execution_count": 73,
   "metadata": {},
   "outputs": [],
   "source": [
    "# After we finish scraping the necessary information, it's good habbit to close the driver when we're done\n",
    "driver.close()"
   ]
  },
  {
   "cell_type": "markdown",
   "metadata": {},
   "source": [
    "# Visualizing\n",
    "\n",
    "Now that we are done with our scraper, we can begin to clean our dataframe so we can manipulate the data."
   ]
  },
  {
   "cell_type": "code",
   "execution_count": 132,
   "metadata": {},
   "outputs": [],
   "source": [
    "import seaborn as sns\n",
    "import matplotlib.pyplot as plt"
   ]
  },
  {
   "cell_type": "code",
   "execution_count": 72,
   "metadata": {},
   "outputs": [],
   "source": [
    "df = pd.read_csv('landis.csv', delimiter = '|')"
   ]
  },
  {
   "cell_type": "code",
   "execution_count": 92,
   "metadata": {},
   "outputs": [
    {
     "data": {
      "text/html": [
       "<div>\n",
       "<style scoped>\n",
       "    .dataframe tbody tr th:only-of-type {\n",
       "        vertical-align: middle;\n",
       "    }\n",
       "\n",
       "    .dataframe tbody tr th {\n",
       "        vertical-align: top;\n",
       "    }\n",
       "\n",
       "    .dataframe thead th {\n",
       "        text-align: right;\n",
       "    }\n",
       "</style>\n",
       "<table border=\"1\" class=\"dataframe\">\n",
       "  <thead>\n",
       "    <tr style=\"text-align: right;\">\n",
       "      <th></th>\n",
       "      <th>name</th>\n",
       "      <th>address</th>\n",
       "      <th>land_use</th>\n",
       "      <th>total_apprasial_value</th>\n",
       "      <th>land_size</th>\n",
       "      <th>description</th>\n",
       "      <th>appraisal_neighborhood</th>\n",
       "    </tr>\n",
       "  </thead>\n",
       "  <tbody>\n",
       "    <tr>\n",
       "      <th>0</th>\n",
       "      <td>03523123 BEAZER HOMES CORP (CROSSMAN COMMUNITI...</td>\n",
       "      <td>1000 VALLEYDALE RD CHARLOTTE NC</td>\n",
       "      <td>SFR</td>\n",
       "      <td>284800</td>\n",
       "      <td>12.1 ACRE</td>\n",
       "      <td>NaN</td>\n",
       "      <td>D501</td>\n",
       "    </tr>\n",
       "    <tr>\n",
       "      <th>1</th>\n",
       "      <td>07109433 GRIFFITH SARAH</td>\n",
       "      <td>1000 VANIZER ST CHARLOTTE NC</td>\n",
       "      <td>SFR</td>\n",
       "      <td>69600</td>\n",
       "      <td>1 LOT</td>\n",
       "      <td>L23 &amp;24 B7 M3-95</td>\n",
       "      <td>G510</td>\n",
       "    </tr>\n",
       "    <tr>\n",
       "      <th>2</th>\n",
       "      <td>09710209 HOBBS JOHN FREDERICK</td>\n",
       "      <td>1000 VICKERY DR CHARLOTTE NC</td>\n",
       "      <td>SFR</td>\n",
       "      <td>87400</td>\n",
       "      <td>1 LOT</td>\n",
       "      <td>L8 B2 M9 379 1000 VICKERY PL</td>\n",
       "      <td>J711</td>\n",
       "    </tr>\n",
       "    <tr>\n",
       "      <th>3</th>\n",
       "      <td>07719211 BOYD ANNIE M</td>\n",
       "      <td>1000 WAINWRIGHT AV CHARLOTTE NC</td>\n",
       "      <td>SFR</td>\n",
       "      <td>62300</td>\n",
       "      <td>1 LOT</td>\n",
       "      <td>L10 B31 M4-676</td>\n",
       "      <td>H702</td>\n",
       "    </tr>\n",
       "    <tr>\n",
       "      <th>4</th>\n",
       "      <td>07321308 LUXITY LLC</td>\n",
       "      <td>1000 WESTBROOK DR CHARLOTTE NC</td>\n",
       "      <td>SFR</td>\n",
       "      <td>90000</td>\n",
       "      <td>1 LOT</td>\n",
       "      <td>L6A M58-228</td>\n",
       "      <td>H301</td>\n",
       "    </tr>\n",
       "  </tbody>\n",
       "</table>\n",
       "</div>"
      ],
      "text/plain": [
       "                                                name  \\\n",
       "0  03523123 BEAZER HOMES CORP (CROSSMAN COMMUNITI...   \n",
       "1                            07109433 GRIFFITH SARAH   \n",
       "2                      09710209 HOBBS JOHN FREDERICK   \n",
       "3                              07719211 BOYD ANNIE M   \n",
       "4                                07321308 LUXITY LLC   \n",
       "\n",
       "                           address land_use  total_apprasial_value  land_size  \\\n",
       "0  1000 VALLEYDALE RD CHARLOTTE NC      SFR                 284800  12.1 ACRE   \n",
       "1     1000 VANIZER ST CHARLOTTE NC      SFR                  69600      1 LOT   \n",
       "2     1000 VICKERY DR CHARLOTTE NC      SFR                  87400      1 LOT   \n",
       "3  1000 WAINWRIGHT AV CHARLOTTE NC      SFR                  62300      1 LOT   \n",
       "4   1000 WESTBROOK DR CHARLOTTE NC      SFR                  90000      1 LOT   \n",
       "\n",
       "                    description appraisal_neighborhood  \n",
       "0                           NaN                   D501  \n",
       "1              L23 &24 B7 M3-95                   G510  \n",
       "2  L8 B2 M9 379 1000 VICKERY PL                   J711  \n",
       "3                L10 B31 M4-676                   H702  \n",
       "4                   L6A M58-228                   H301  "
      ]
     },
     "execution_count": 92,
     "metadata": {},
     "output_type": "execute_result"
    }
   ],
   "source": [
    "df.head()"
   ]
  },
  {
   "cell_type": "code",
   "execution_count": 84,
   "metadata": {},
   "outputs": [],
   "source": [
    "def money_convert(x, y):\n",
    "    \"\"\"\n",
    "    Function to convert our dollar amount to a type int for manipulation.\n",
    "    x = Dataframe being used\n",
    "    y = column that needs to be converted, NOTE: need to include quotes, i.e. 'name'\n",
    "    \"\"\"\n",
    "    x[y] = x[y].str.replace(',', '') # removes commas\n",
    "    x[y] = x[y].str.replace('$', '') # removes dollar signs\n",
    "    x[y] = x[y].astype(int) # converts to type int"
   ]
  },
  {
   "cell_type": "code",
   "execution_count": 90,
   "metadata": {},
   "outputs": [],
   "source": [
    "money_convert(df, 'total_apprasial_value')"
   ]
  },
  {
   "cell_type": "code",
   "execution_count": 115,
   "metadata": {},
   "outputs": [],
   "source": [
    "count = df.groupby(['appraisal_neighborhood']).count().reset_index()"
   ]
  },
  {
   "cell_type": "code",
   "execution_count": 116,
   "metadata": {},
   "outputs": [],
   "source": [
    "count = count[['appraisal_neighborhood','name']]"
   ]
  },
  {
   "cell_type": "code",
   "execution_count": 119,
   "metadata": {},
   "outputs": [],
   "source": [
    "mean_value = df.groupby(['appraisal_neighborhood']).mean().reset_index()"
   ]
  },
  {
   "cell_type": "code",
   "execution_count": 121,
   "metadata": {},
   "outputs": [],
   "source": [
    "mean_value_count = pd.merge(mean_value,count)"
   ]
  },
  {
   "cell_type": "code",
   "execution_count": 124,
   "metadata": {},
   "outputs": [],
   "source": [
    "mean_value_count = mean_value_count.sort_values(by= 'total_apprasial_value', ascending =False)"
   ]
  },
  {
   "cell_type": "code",
   "execution_count": 125,
   "metadata": {},
   "outputs": [],
   "source": [
    "mean_value_count = mean_value_count[mean_value_count['name'] >=7]"
   ]
  },
  {
   "cell_type": "code",
   "execution_count": 180,
   "metadata": {},
   "outputs": [
    {
     "data": {
      "text/html": [
       "<div>\n",
       "<style scoped>\n",
       "    .dataframe tbody tr th:only-of-type {\n",
       "        vertical-align: middle;\n",
       "    }\n",
       "\n",
       "    .dataframe tbody tr th {\n",
       "        vertical-align: top;\n",
       "    }\n",
       "\n",
       "    .dataframe thead th {\n",
       "        text-align: right;\n",
       "    }\n",
       "</style>\n",
       "<table border=\"1\" class=\"dataframe\">\n",
       "  <thead>\n",
       "    <tr style=\"text-align: right;\">\n",
       "      <th></th>\n",
       "      <th>appraisal_neighborhood</th>\n",
       "      <th>total_apprasial_value</th>\n",
       "      <th>name</th>\n",
       "    </tr>\n",
       "  </thead>\n",
       "  <tbody>\n",
       "    <tr>\n",
       "      <th>59</th>\n",
       "      <td>W956</td>\n",
       "      <td>413820.000000</td>\n",
       "      <td>10</td>\n",
       "    </tr>\n",
       "    <tr>\n",
       "      <th>40</th>\n",
       "      <td>U732</td>\n",
       "      <td>378341.666667</td>\n",
       "      <td>12</td>\n",
       "    </tr>\n",
       "    <tr>\n",
       "      <th>42</th>\n",
       "      <td>U921</td>\n",
       "      <td>366476.470588</td>\n",
       "      <td>17</td>\n",
       "    </tr>\n",
       "    <tr>\n",
       "      <th>47</th>\n",
       "      <td>W312</td>\n",
       "      <td>220737.500000</td>\n",
       "      <td>8</td>\n",
       "    </tr>\n",
       "    <tr>\n",
       "      <th>34</th>\n",
       "      <td>T901</td>\n",
       "      <td>215163.636364</td>\n",
       "      <td>11</td>\n",
       "    </tr>\n",
       "  </tbody>\n",
       "</table>\n",
       "</div>"
      ],
      "text/plain": [
       "   appraisal_neighborhood  total_apprasial_value  name\n",
       "59                   W956          413820.000000    10\n",
       "40                   U732          378341.666667    12\n",
       "42                   U921          366476.470588    17\n",
       "47                   W312          220737.500000     8\n",
       "34                   T901          215163.636364    11"
      ]
     },
     "execution_count": 180,
     "metadata": {},
     "output_type": "execute_result"
    }
   ],
   "source": [
    "# Mean_value_count is a dataframe that shows us each neighborhoods average price, along with the associated amount of homes in that neighborhood\n",
    "# I choose to look at neighborhoods that had more than 7 houses\n",
    "mean_value_count.head()"
   ]
  },
  {
   "cell_type": "code",
   "execution_count": 162,
   "metadata": {},
   "outputs": [
    {
     "data": {
      "image/png": "[encoded data removed]",
      "text/plain": [
       "<Figure size 1152x720 with 1 Axes>"
      ]
     },
     "metadata": {},
     "output_type": "display_data"
    }
   ],
   "source": [
    "%matplotlib inline\n",
    "apprasial_average = sns.barplot(y = mean_value_count['appraisal_neighborhood'], x = mean_value_count['total_apprasial_value'], palette=\"Blues_d\")\n",
    "plt.xlabel(\"Average Price\")\n",
    "plt.ylabel(\"Neighborhood\")\n",
    "plt.title(\"Average Neighborhood Price\")\n",
    "fig = plt.gcf()\n",
    "fig.set_size_inches(16, 10)\n",
    "plt.show(apprasial_average)"
   ]
  },
  {
   "cell_type": "markdown",
   "metadata": {},
   "source": [
    "The barplot above shows us the neighborhood, descending, with the highest property value. "
   ]
  },
  {
   "cell_type": "code",
   "execution_count": 166,
   "metadata": {},
   "outputs": [],
   "source": [
    "land_size_count = df.groupby(['land_size']).count().reset_index()"
   ]
  },
  {
   "cell_type": "code",
   "execution_count": 170,
   "metadata": {},
   "outputs": [],
   "source": [
    "land_size_count = land_size_count[['land_size', 'name']].sort_values(by = 'name', ascending  = False)"
   ]
  },
  {
   "cell_type": "code",
   "execution_count": 181,
   "metadata": {},
   "outputs": [
    {
     "data": {
      "text/html": [
       "<div>\n",
       "<style scoped>\n",
       "    .dataframe tbody tr th:only-of-type {\n",
       "        vertical-align: middle;\n",
       "    }\n",
       "\n",
       "    .dataframe tbody tr th {\n",
       "        vertical-align: top;\n",
       "    }\n",
       "\n",
       "    .dataframe thead th {\n",
       "        text-align: right;\n",
       "    }\n",
       "</style>\n",
       "<table border=\"1\" class=\"dataframe\">\n",
       "  <thead>\n",
       "    <tr style=\"text-align: right;\">\n",
       "      <th></th>\n",
       "      <th>land_size</th>\n",
       "      <th>name</th>\n",
       "    </tr>\n",
       "  </thead>\n",
       "  <tbody>\n",
       "    <tr>\n",
       "      <th>2</th>\n",
       "      <td>1 LOT</td>\n",
       "      <td>386</td>\n",
       "    </tr>\n",
       "    <tr>\n",
       "      <th>4</th>\n",
       "      <td>2 LOT</td>\n",
       "      <td>6</td>\n",
       "    </tr>\n",
       "    <tr>\n",
       "      <th>0</th>\n",
       "      <td>0.77 SMALL ACRE</td>\n",
       "      <td>5</td>\n",
       "    </tr>\n",
       "    <tr>\n",
       "      <th>1</th>\n",
       "      <td>0.99 LOT</td>\n",
       "      <td>2</td>\n",
       "    </tr>\n",
       "    <tr>\n",
       "      <th>3</th>\n",
       "      <td>12.1 ACRE</td>\n",
       "      <td>1</td>\n",
       "    </tr>\n",
       "  </tbody>\n",
       "</table>\n",
       "</div>"
      ],
      "text/plain": [
       "         land_size  name\n",
       "2            1 LOT   386\n",
       "4            2 LOT     6\n",
       "0  0.77 SMALL ACRE     5\n",
       "1         0.99 LOT     2\n",
       "3        12.1 ACRE     1"
      ]
     },
     "execution_count": 181,
     "metadata": {},
     "output_type": "execute_result"
    }
   ],
   "source": [
    "land_size_count.head()"
   ]
  },
  {
   "cell_type": "code",
   "execution_count": 183,
   "metadata": {},
   "outputs": [
    {
     "data": {
      "image/png": "[encoded data removed]",
      "text/plain": [
       "<Figure size 1008x576 with 1 Axes>"
      ]
     },
     "metadata": {},
     "output_type": "display_data"
    }
   ],
   "source": [
    "%matplotlib inline\n",
    "land_count = sns.barplot(x = land_size_count['name'], y = land_size_count['land_size'],  palette=\"Blues_d\")\n",
    "plt.xlabel(\"Count\")\n",
    "plt.ylabel(\"Land Size\")\n",
    "plt.title(\"Count of Land Sizes\")\n",
    "fig = plt.gcf()\n",
    "fig.set_size_inches(14, 8)\n",
    "plt.show(apprasial_average)"
   ]
  },
  {
   "cell_type": "markdown",
   "metadata": {},
   "source": [
    "As we can see above, majority of the single family homes land size are grouped in 1 Lot. Only 1 house has 12.1 ACRE. 6 houses have 2 Lots."
   ]
  },
  {
   "cell_type": "markdown",
   "metadata": {},
   "source": [
    "# Additional Work\n",
    "\n",
    "The work above is to show the Done vs. Perfect method. I webscraped basic information from Mecklenburg County website. Things I would add would be the overview information page that encompases more information per house (https://property.spatialest.com/nc/mecklenburg/#/property/31883). With this information, I could eventually create a Machine Learning model to predict housing prices in Charolette, NC based off the numerous data points. It would be interesting to see which houses are undervalued or overvalued. Along with that, I could set up a MySQL database. I had a blast working with different webscrapers and figuring out which method would work best. Eventually I would like to come back to this project and set up a AWS database, along with expanding my web scraper to gather more information."
   ]
  },
  {
   "cell_type": "code",
   "execution_count": null,
   "metadata": {},
   "outputs": [],
   "source": []
  }
 ],
 "metadata": {
  "kernelspec": {
   "display_name": "Python 3",
   "language": "python",
   "name": "python3"
  },
  "language_info": {
   "codemirror_mode": {
    "name": "ipython",
    "version": 3
   },
   "file_extension": ".py",
   "mimetype": "text/x-python",
   "name": "python",
   "nbconvert_exporter": "python",
   "pygments_lexer": "ipython3",
   "version": "3.6.5"
  }
 },
 "nbformat": 4,
 "nbformat_minor": 2
}
